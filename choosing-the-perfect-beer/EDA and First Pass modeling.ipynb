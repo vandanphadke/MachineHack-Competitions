{
 "cells": [
  {
   "cell_type": "code",
   "execution_count": 1,
   "metadata": {
    "collapsed": true
   },
   "outputs": [],
   "source": [
    "import warnings\n",
    "import numpy as np\n",
    "import pandas as pd\n",
    "import seaborn as sns\n",
    "\n",
    "%matplotlib inline\n",
    "warnings.filterwarnings('ignore')"
   ]
  },
  {
   "cell_type": "code",
   "execution_count": 36,
   "metadata": {},
   "outputs": [
    {
     "data": {
      "text/html": [
       "<div>\n",
       "<style>\n",
       "    .dataframe thead tr:only-child th {\n",
       "        text-align: right;\n",
       "    }\n",
       "\n",
       "    .dataframe thead th {\n",
       "        text-align: left;\n",
       "    }\n",
       "\n",
       "    .dataframe tbody tr th {\n",
       "        vertical-align: top;\n",
       "    }\n",
       "</style>\n",
       "<table border=\"1\" class=\"dataframe\">\n",
       "  <thead>\n",
       "    <tr style=\"text-align: right;\">\n",
       "      <th></th>\n",
       "      <th>abv</th>\n",
       "      <th>company</th>\n",
       "      <th>food</th>\n",
       "      <th>glassware</th>\n",
       "      <th>id</th>\n",
       "      <th>number_ratings</th>\n",
       "      <th>style</th>\n",
       "      <th>cell_temp</th>\n",
       "      <th>serving_temp</th>\n",
       "      <th>score</th>\n",
       "    </tr>\n",
       "  </thead>\n",
       "  <tbody>\n",
       "    <tr>\n",
       "      <th>0</th>\n",
       "      <td>6.5</td>\n",
       "      <td>8929</td>\n",
       "      <td>(Curried,Thai)Cheese(pepperyMontereyPepperJack...</td>\n",
       "      <td>PintGlass(orBecker,Nonic,Tumbler),Mug(orSeidel...</td>\n",
       "      <td>15121</td>\n",
       "      <td>22</td>\n",
       "      <td>AmericanIPA</td>\n",
       "      <td>40-45</td>\n",
       "      <td>45-50</td>\n",
       "      <td>3.28</td>\n",
       "    </tr>\n",
       "    <tr>\n",
       "      <th>1</th>\n",
       "      <td>5.5</td>\n",
       "      <td>13187</td>\n",
       "      <td>(PanAsian)Cheese(earthyCamembert,Fontina,nutty...</td>\n",
       "      <td>PintGlass(orBecker,Nonic,Tumbler),Mug(orSeidel...</td>\n",
       "      <td>59817</td>\n",
       "      <td>1</td>\n",
       "      <td>AmericanPaleAle(APA)</td>\n",
       "      <td>35-40</td>\n",
       "      <td>40-45</td>\n",
       "      <td>3.52</td>\n",
       "    </tr>\n",
       "    <tr>\n",
       "      <th>2</th>\n",
       "      <td>8.1</td>\n",
       "      <td>6834</td>\n",
       "      <td>Meat(Pork,Poultry)</td>\n",
       "      <td>PintGlass(orBecker,Nonic,Tumbler),Mug(orSeidel...</td>\n",
       "      <td>32669</td>\n",
       "      <td>3</td>\n",
       "      <td>IrishRedAle</td>\n",
       "      <td>35-40</td>\n",
       "      <td>40-45</td>\n",
       "      <td>4.01</td>\n",
       "    </tr>\n",
       "    <tr>\n",
       "      <th>3</th>\n",
       "      <td>NaN</td>\n",
       "      <td>11688</td>\n",
       "      <td>(Indian,LatinAmerican,PanAsian)General(Aperitif)</td>\n",
       "      <td>PintGlass(orBecker,Nonic,Tumbler),PilsenerGlas...</td>\n",
       "      <td>130798</td>\n",
       "      <td>0</td>\n",
       "      <td>AmericanMaltLiquor</td>\n",
       "      <td>35-40</td>\n",
       "      <td>35-40</td>\n",
       "      <td>0.00</td>\n",
       "    </tr>\n",
       "    <tr>\n",
       "      <th>4</th>\n",
       "      <td>6.0</td>\n",
       "      <td>10417</td>\n",
       "      <td>Meat(Poultry,Fish,Shellfish)</td>\n",
       "      <td>PilsenerGlass(orPokal)</td>\n",
       "      <td>124087</td>\n",
       "      <td>1</td>\n",
       "      <td>EuroPaleLager</td>\n",
       "      <td>35-40</td>\n",
       "      <td>40-45</td>\n",
       "      <td>2.73</td>\n",
       "    </tr>\n",
       "  </tbody>\n",
       "</table>\n",
       "</div>"
      ],
      "text/plain": [
       "   abv  company                                               food  \\\n",
       "0  6.5     8929  (Curried,Thai)Cheese(pepperyMontereyPepperJack...   \n",
       "1  5.5    13187  (PanAsian)Cheese(earthyCamembert,Fontina,nutty...   \n",
       "2  8.1     6834                                 Meat(Pork,Poultry)   \n",
       "3  NaN    11688   (Indian,LatinAmerican,PanAsian)General(Aperitif)   \n",
       "4  6.0    10417                       Meat(Poultry,Fish,Shellfish)   \n",
       "\n",
       "                                           glassware      id number_ratings  \\\n",
       "0  PintGlass(orBecker,Nonic,Tumbler),Mug(orSeidel...   15121             22   \n",
       "1  PintGlass(orBecker,Nonic,Tumbler),Mug(orSeidel...   59817              1   \n",
       "2  PintGlass(orBecker,Nonic,Tumbler),Mug(orSeidel...   32669              3   \n",
       "3  PintGlass(orBecker,Nonic,Tumbler),PilsenerGlas...  130798              0   \n",
       "4                             PilsenerGlass(orPokal)  124087              1   \n",
       "\n",
       "                  style cell_temp serving_temp  score  \n",
       "0           AmericanIPA     40-45        45-50   3.28  \n",
       "1  AmericanPaleAle(APA)     35-40        40-45   3.52  \n",
       "2           IrishRedAle     35-40        40-45   4.01  \n",
       "3    AmericanMaltLiquor     35-40        35-40   0.00  \n",
       "4         EuroPaleLager     35-40        40-45   2.73  "
      ]
     },
     "execution_count": 36,
     "metadata": {},
     "output_type": "execute_result"
    }
   ],
   "source": [
    "train = pd.read_csv('data/raw/train.csv')\n",
    "train.columns = ['abv', 'company', 'food', 'glassware', 'id', 'number_ratings', 'style', 'cell_temp', 'serving_temp', 'score']\n",
    "train.head()"
   ]
  },
  {
   "cell_type": "markdown",
   "metadata": {},
   "source": [
    "## Data Preprocessing"
   ]
  },
  {
   "cell_type": "markdown",
   "metadata": {},
   "source": [
    "### Handling Empty Values"
   ]
  },
  {
   "cell_type": "code",
   "execution_count": 3,
   "metadata": {},
   "outputs": [
    {
     "name": "stdout",
     "output_type": "stream",
     "text": [
      "(185643, 10)\n"
     ]
    },
    {
     "data": {
      "text/plain": [
       "abv               15130\n",
       "company               0\n",
       "food                  0\n",
       "glassware             0\n",
       "id                    0\n",
       "number_ratings        0\n",
       "style                 0\n",
       "cell_temp          6781\n",
       "serving_temp        193\n",
       "score                 0\n",
       "dtype: int64"
      ]
     },
     "execution_count": 3,
     "metadata": {},
     "output_type": "execute_result"
    }
   ],
   "source": [
    "print(train.shape)\n",
    "train.isnull().sum()"
   ]
  },
  {
   "cell_type": "markdown",
   "metadata": {},
   "source": [
    "<h4>Currently using a simple strategy to interploate empty values</h4>\n",
    "<p> 1. Substitute average for ABV </p>\n",
    "<p> 2. Most frequent cellar temperature </p>\n",
    "<p> 3. Most frequent serving temperature </p>"
   ]
  },
  {
   "cell_type": "code",
   "execution_count": 37,
   "metadata": {},
   "outputs": [
    {
     "name": "stdout",
     "output_type": "stream",
     "text": [
      "6.354960736131254\n"
     ]
    }
   ],
   "source": [
    "print(train.abv.mean())\n",
    "train.abv[train.abv.isnull()] = train.abv.mean()"
   ]
  },
  {
   "cell_type": "code",
   "execution_count": 38,
   "metadata": {},
   "outputs": [
    {
     "name": "stdout",
     "output_type": "stream",
     "text": [
      "45-50\n"
     ]
    }
   ],
   "source": [
    "print(train.serving_temp.value_counts().idxmax())\n",
    "train.serving_temp[train.serving_temp.isnull()] = train.serving_temp.value_counts().idxmax()"
   ]
  },
  {
   "cell_type": "code",
   "execution_count": 39,
   "metadata": {},
   "outputs": [
    {
     "name": "stdout",
     "output_type": "stream",
     "text": [
      "40-45\n"
     ]
    }
   ],
   "source": [
    "print(train.cell_temp.value_counts().idxmax())\n",
    "train.cell_temp[train.cell_temp.isnull()] = train.cell_temp.value_counts().idxmax()"
   ]
  },
  {
   "cell_type": "markdown",
   "metadata": {},
   "source": [
    "### Converting variables to useful format"
   ]
  },
  {
   "cell_type": "markdown",
   "metadata": {},
   "source": [
    "## Exploratory Analysis "
   ]
  },
  {
   "cell_type": "code",
   "execution_count": 40,
   "metadata": {},
   "outputs": [],
   "source": [
    "# The number_ratings feature is in text because some of the rows are like '1,000'\n",
    "# Remove ','\n",
    "train.number_ratings = train.number_ratings.apply(lambda x: x.replace(\",\", \"\"))\n",
    "train.number_ratings = pd.to_numeric(train.number_ratings)"
   ]
  },
  {
   "cell_type": "code",
   "execution_count": 41,
   "metadata": {},
   "outputs": [],
   "source": [
    "# Processing the foold and glassware features\n",
    "# Remove eveyything between parantheses\n",
    "train['food'] = train.food.str.replace(r\"\\(.*\\)\",\"\")\n",
    "train['glassware'] = train.glassware.str.replace(r\"\\(.*\\)\",\"\")"
   ]
  },
  {
   "cell_type": "code",
   "execution_count": 43,
   "metadata": {},
   "outputs": [
    {
     "data": {
      "text/html": [
       "<div>\n",
       "<style>\n",
       "    .dataframe thead tr:only-child th {\n",
       "        text-align: right;\n",
       "    }\n",
       "\n",
       "    .dataframe thead th {\n",
       "        text-align: left;\n",
       "    }\n",
       "\n",
       "    .dataframe tbody tr th {\n",
       "        vertical-align: top;\n",
       "    }\n",
       "</style>\n",
       "<table border=\"1\" class=\"dataframe\">\n",
       "  <thead>\n",
       "    <tr style=\"text-align: right;\">\n",
       "      <th></th>\n",
       "      <th>glass_flute</th>\n",
       "      <th>glass_goblet</th>\n",
       "      <th>glass_mug</th>\n",
       "      <th>glass_none</th>\n",
       "      <th>glass_oversizedwineglass</th>\n",
       "      <th>glass_pilsenerglass</th>\n",
       "      <th>glass_pintglass</th>\n",
       "      <th>glass_snifter</th>\n",
       "      <th>glass_stange</th>\n",
       "      <th>glass_tulip</th>\n",
       "      <th>glass_weizenglass</th>\n",
       "      <th>glass_yet</th>\n",
       "    </tr>\n",
       "  </thead>\n",
       "  <tbody>\n",
       "    <tr>\n",
       "      <th>0</th>\n",
       "      <td>0</td>\n",
       "      <td>0</td>\n",
       "      <td>0</td>\n",
       "      <td>0</td>\n",
       "      <td>0</td>\n",
       "      <td>0</td>\n",
       "      <td>1</td>\n",
       "      <td>0</td>\n",
       "      <td>0</td>\n",
       "      <td>0</td>\n",
       "      <td>0</td>\n",
       "      <td>0</td>\n",
       "    </tr>\n",
       "    <tr>\n",
       "      <th>1</th>\n",
       "      <td>0</td>\n",
       "      <td>0</td>\n",
       "      <td>0</td>\n",
       "      <td>0</td>\n",
       "      <td>0</td>\n",
       "      <td>0</td>\n",
       "      <td>1</td>\n",
       "      <td>0</td>\n",
       "      <td>0</td>\n",
       "      <td>0</td>\n",
       "      <td>0</td>\n",
       "      <td>0</td>\n",
       "    </tr>\n",
       "    <tr>\n",
       "      <th>2</th>\n",
       "      <td>0</td>\n",
       "      <td>0</td>\n",
       "      <td>0</td>\n",
       "      <td>0</td>\n",
       "      <td>0</td>\n",
       "      <td>0</td>\n",
       "      <td>1</td>\n",
       "      <td>0</td>\n",
       "      <td>0</td>\n",
       "      <td>0</td>\n",
       "      <td>0</td>\n",
       "      <td>0</td>\n",
       "    </tr>\n",
       "    <tr>\n",
       "      <th>3</th>\n",
       "      <td>0</td>\n",
       "      <td>0</td>\n",
       "      <td>0</td>\n",
       "      <td>0</td>\n",
       "      <td>0</td>\n",
       "      <td>0</td>\n",
       "      <td>1</td>\n",
       "      <td>0</td>\n",
       "      <td>0</td>\n",
       "      <td>0</td>\n",
       "      <td>0</td>\n",
       "      <td>0</td>\n",
       "    </tr>\n",
       "    <tr>\n",
       "      <th>4</th>\n",
       "      <td>0</td>\n",
       "      <td>0</td>\n",
       "      <td>0</td>\n",
       "      <td>0</td>\n",
       "      <td>0</td>\n",
       "      <td>1</td>\n",
       "      <td>0</td>\n",
       "      <td>0</td>\n",
       "      <td>0</td>\n",
       "      <td>0</td>\n",
       "      <td>0</td>\n",
       "      <td>0</td>\n",
       "    </tr>\n",
       "  </tbody>\n",
       "</table>\n",
       "</div>"
      ],
      "text/plain": [
       "   glass_flute  glass_goblet  glass_mug  glass_none  glass_oversizedwineglass  \\\n",
       "0            0             0          0           0                         0   \n",
       "1            0             0          0           0                         0   \n",
       "2            0             0          0           0                         0   \n",
       "3            0             0          0           0                         0   \n",
       "4            0             0          0           0                         0   \n",
       "\n",
       "   glass_pilsenerglass  glass_pintglass  glass_snifter  glass_stange  \\\n",
       "0                    0                1              0             0   \n",
       "1                    0                1              0             0   \n",
       "2                    0                1              0             0   \n",
       "3                    0                1              0             0   \n",
       "4                    1                0              0             0   \n",
       "\n",
       "   glass_tulip  glass_weizenglass  glass_yet  \n",
       "0            0                  0          0  \n",
       "1            0                  0          0  \n",
       "2            0                  0          0  \n",
       "3            0                  0          0  \n",
       "4            0                  0          0  "
      ]
     },
     "execution_count": 43,
     "metadata": {},
     "output_type": "execute_result"
    }
   ],
   "source": [
    "train_glass = train.glassware.str.split('\\s*,\\s*', expand=True).stack().str.get_dummies().sum(level=0)\n",
    "train_glass.columns = ['glass_' + str(col).lower()  for col in train_glass.columns]\n",
    "train_glass.head()"
   ]
  },
  {
   "cell_type": "markdown",
   "metadata": {},
   "source": [
    "### Univariate Analysis "
   ]
  },
  {
   "cell_type": "code",
   "execution_count": 8,
   "metadata": {},
   "outputs": [
    {
     "data": {
      "text/plain": [
       "<matplotlib.axes._subplots.AxesSubplot at 0x19356e35f28>"
      ]
     },
     "execution_count": 8,
     "metadata": {},
     "output_type": "execute_result"
    },
    {
     "data": {
      "image/png": "[encoded data removed]",
      "text/plain": [
       "<matplotlib.figure.Figure at 0x19356e35080>"
      ]
     },
     "metadata": {},
     "output_type": "display_data"
    }
   ],
   "source": [
    "sns.distplot(train.abv)"
   ]
  },
  {
   "cell_type": "code",
   "execution_count": 22,
   "metadata": {},
   "outputs": [
    {
     "data": {
      "text/plain": [
       "<matplotlib.axes._subplots.AxesSubplot at 0x193581aa0b8>"
      ]
     },
     "execution_count": 22,
     "metadata": {},
     "output_type": "execute_result"
    },
    {
     "data": {
      "image/png": "[encoded data removed]",
      "text/plain": [
       "<matplotlib.figure.Figure at 0x1935739fe48>"
      ]
     },
     "metadata": {},
     "output_type": "display_data"
    }
   ],
   "source": [
    "sns.distplot(np.log(train.number_ratings + 1))"
   ]
  },
  {
   "cell_type": "code",
   "execution_count": null,
   "metadata": {
    "collapsed": true
   },
   "outputs": [],
   "source": []
  }
 ],
 "metadata": {
  "kernelspec": {
   "display_name": "Python 3",
   "language": "python",
   "name": "python3"
  },
  "language_info": {
   "codemirror_mode": {
    "name": "ipython",
    "version": 3
   },
   "file_extension": ".py",
   "mimetype": "text/x-python",
   "name": "python",
   "nbconvert_exporter": "python",
   "pygments_lexer": "ipython3",
   "version": "3.6.1"
  }
 },
 "nbformat": 4,
 "nbformat_minor": 2
}
