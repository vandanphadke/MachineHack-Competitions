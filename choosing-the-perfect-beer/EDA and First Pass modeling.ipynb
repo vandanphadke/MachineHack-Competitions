{
 "cells": [
  {
   "cell_type": "code",
   "execution_count": 27,
   "metadata": {
    "collapsed": true
   },
   "outputs": [],
   "source": [
    "import warnings\n",
    "import numpy as np\n",
    "import pandas as pd\n",
    "import matplotlib.pyplot as plt\n",
    "import seaborn as sns\n",
    "from math import sqrt\n",
    "\n",
    "from sklearn.preprocessing import LabelEncoder\n",
    "from sklearn.model_selection import train_test_split\n",
    "from sklearn.linear_model import LinearRegression\n",
    "from sklearn.metrics import mean_squared_error\n",
    "\n",
    "%matplotlib inline\n",
    "warnings.filterwarnings('ignore')"
   ]
  },
  {
   "cell_type": "code",
   "execution_count": 2,
   "metadata": {},
   "outputs": [
    {
     "data": {
      "text/html": [
       "<div>\n",
       "<style scoped>\n",
       "    .dataframe tbody tr th:only-of-type {\n",
       "        vertical-align: middle;\n",
       "    }\n",
       "\n",
       "    .dataframe tbody tr th {\n",
       "        vertical-align: top;\n",
       "    }\n",
       "\n",
       "    .dataframe thead th {\n",
       "        text-align: right;\n",
       "    }\n",
       "</style>\n",
       "<table border=\"1\" class=\"dataframe\">\n",
       "  <thead>\n",
       "    <tr style=\"text-align: right;\">\n",
       "      <th></th>\n",
       "      <th>abv</th>\n",
       "      <th>company</th>\n",
       "      <th>food</th>\n",
       "      <th>glassware</th>\n",
       "      <th>id</th>\n",
       "      <th>number_ratings</th>\n",
       "      <th>style</th>\n",
       "      <th>cell_temp</th>\n",
       "      <th>serving_temp</th>\n",
       "      <th>score</th>\n",
       "    </tr>\n",
       "  </thead>\n",
       "  <tbody>\n",
       "    <tr>\n",
       "      <th>0</th>\n",
       "      <td>6.5</td>\n",
       "      <td>8929</td>\n",
       "      <td>(Curried,Thai)Cheese(pepperyMontereyPepperJack...</td>\n",
       "      <td>PintGlass(orBecker,Nonic,Tumbler),Mug(orSeidel...</td>\n",
       "      <td>15121</td>\n",
       "      <td>22</td>\n",
       "      <td>AmericanIPA</td>\n",
       "      <td>40-45</td>\n",
       "      <td>45-50</td>\n",
       "      <td>3.28</td>\n",
       "    </tr>\n",
       "    <tr>\n",
       "      <th>1</th>\n",
       "      <td>5.5</td>\n",
       "      <td>13187</td>\n",
       "      <td>(PanAsian)Cheese(earthyCamembert,Fontina,nutty...</td>\n",
       "      <td>PintGlass(orBecker,Nonic,Tumbler),Mug(orSeidel...</td>\n",
       "      <td>59817</td>\n",
       "      <td>1</td>\n",
       "      <td>AmericanPaleAle(APA)</td>\n",
       "      <td>35-40</td>\n",
       "      <td>40-45</td>\n",
       "      <td>3.52</td>\n",
       "    </tr>\n",
       "    <tr>\n",
       "      <th>2</th>\n",
       "      <td>8.1</td>\n",
       "      <td>6834</td>\n",
       "      <td>Meat(Pork,Poultry)</td>\n",
       "      <td>PintGlass(orBecker,Nonic,Tumbler),Mug(orSeidel...</td>\n",
       "      <td>32669</td>\n",
       "      <td>3</td>\n",
       "      <td>IrishRedAle</td>\n",
       "      <td>35-40</td>\n",
       "      <td>40-45</td>\n",
       "      <td>4.01</td>\n",
       "    </tr>\n",
       "    <tr>\n",
       "      <th>3</th>\n",
       "      <td>NaN</td>\n",
       "      <td>11688</td>\n",
       "      <td>(Indian,LatinAmerican,PanAsian)General(Aperitif)</td>\n",
       "      <td>PintGlass(orBecker,Nonic,Tumbler),PilsenerGlas...</td>\n",
       "      <td>130798</td>\n",
       "      <td>0</td>\n",
       "      <td>AmericanMaltLiquor</td>\n",
       "      <td>35-40</td>\n",
       "      <td>35-40</td>\n",
       "      <td>0.00</td>\n",
       "    </tr>\n",
       "    <tr>\n",
       "      <th>4</th>\n",
       "      <td>6.0</td>\n",
       "      <td>10417</td>\n",
       "      <td>Meat(Poultry,Fish,Shellfish)</td>\n",
       "      <td>PilsenerGlass(orPokal)</td>\n",
       "      <td>124087</td>\n",
       "      <td>1</td>\n",
       "      <td>EuroPaleLager</td>\n",
       "      <td>35-40</td>\n",
       "      <td>40-45</td>\n",
       "      <td>2.73</td>\n",
       "    </tr>\n",
       "  </tbody>\n",
       "</table>\n",
       "</div>"
      ],
      "text/plain": [
       "   abv  company                                               food  \\\n",
       "0  6.5     8929  (Curried,Thai)Cheese(pepperyMontereyPepperJack...   \n",
       "1  5.5    13187  (PanAsian)Cheese(earthyCamembert,Fontina,nutty...   \n",
       "2  8.1     6834                                 Meat(Pork,Poultry)   \n",
       "3  NaN    11688   (Indian,LatinAmerican,PanAsian)General(Aperitif)   \n",
       "4  6.0    10417                       Meat(Poultry,Fish,Shellfish)   \n",
       "\n",
       "                                           glassware      id number_ratings  \\\n",
       "0  PintGlass(orBecker,Nonic,Tumbler),Mug(orSeidel...   15121             22   \n",
       "1  PintGlass(orBecker,Nonic,Tumbler),Mug(orSeidel...   59817              1   \n",
       "2  PintGlass(orBecker,Nonic,Tumbler),Mug(orSeidel...   32669              3   \n",
       "3  PintGlass(orBecker,Nonic,Tumbler),PilsenerGlas...  130798              0   \n",
       "4                             PilsenerGlass(orPokal)  124087              1   \n",
       "\n",
       "                  style cell_temp serving_temp  score  \n",
       "0           AmericanIPA     40-45        45-50   3.28  \n",
       "1  AmericanPaleAle(APA)     35-40        40-45   3.52  \n",
       "2           IrishRedAle     35-40        40-45   4.01  \n",
       "3    AmericanMaltLiquor     35-40        35-40   0.00  \n",
       "4         EuroPaleLager     35-40        40-45   2.73  "
      ]
     },
     "execution_count": 2,
     "metadata": {},
     "output_type": "execute_result"
    }
   ],
   "source": [
    "train = pd.read_csv('data/raw/train.csv')\n",
    "train.columns = ['abv', 'company', 'food', 'glassware', 'id', 'number_ratings', 'style', 'cell_temp', 'serving_temp', 'score']\n",
    "train.head()"
   ]
  },
  {
   "cell_type": "markdown",
   "metadata": {},
   "source": [
    "## Data Preprocessing"
   ]
  },
  {
   "cell_type": "markdown",
   "metadata": {},
   "source": [
    "### Handling Empty Values"
   ]
  },
  {
   "cell_type": "code",
   "execution_count": 3,
   "metadata": {},
   "outputs": [
    {
     "name": "stdout",
     "output_type": "stream",
     "text": [
      "(185643, 10)\n"
     ]
    },
    {
     "data": {
      "text/plain": [
       "abv               15130\n",
       "company               0\n",
       "food                  0\n",
       "glassware             0\n",
       "id                    0\n",
       "number_ratings        0\n",
       "style                 0\n",
       "cell_temp          6781\n",
       "serving_temp        193\n",
       "score                 0\n",
       "dtype: int64"
      ]
     },
     "execution_count": 3,
     "metadata": {},
     "output_type": "execute_result"
    }
   ],
   "source": [
    "print(train.shape)\n",
    "train.isnull().sum()"
   ]
  },
  {
   "cell_type": "markdown",
   "metadata": {},
   "source": [
    "<h4>Currently using a simple strategy to interploate empty values</h4>\n",
    "<p> 1. Substitute average for ABV </p>\n",
    "<p> 2. Most frequent cellar temperature </p>\n",
    "<p> 3. Most frequent serving temperature </p>"
   ]
  },
  {
   "cell_type": "code",
   "execution_count": 4,
   "metadata": {},
   "outputs": [
    {
     "name": "stdout",
     "output_type": "stream",
     "text": [
      "6.35496073613\n"
     ]
    }
   ],
   "source": [
    "print(train.abv.mean())\n",
    "train.abv[train.abv.isnull()] = train.abv.mean()"
   ]
  },
  {
   "cell_type": "code",
   "execution_count": 5,
   "metadata": {},
   "outputs": [
    {
     "name": "stdout",
     "output_type": "stream",
     "text": [
      "45-50\n"
     ]
    }
   ],
   "source": [
    "print(train.serving_temp.value_counts().idxmax())\n",
    "train.serving_temp[train.serving_temp.isnull()] = train.serving_temp.value_counts().idxmax()"
   ]
  },
  {
   "cell_type": "code",
   "execution_count": 6,
   "metadata": {},
   "outputs": [
    {
     "name": "stdout",
     "output_type": "stream",
     "text": [
      "40-45\n"
     ]
    }
   ],
   "source": [
    "print(train.cell_temp.value_counts().idxmax())\n",
    "train.cell_temp[train.cell_temp.isnull()] = train.cell_temp.value_counts().idxmax()"
   ]
  },
  {
   "cell_type": "code",
   "execution_count": 7,
   "metadata": {
    "collapsed": true
   },
   "outputs": [],
   "source": [
    "temp_encoder = LabelEncoder()\n",
    "temp_encoder.fit(train.serving_temp)\n",
    "train.serving_temp = temp_encoder.transform(train.serving_temp)\n",
    "train.cell_temp = temp_encoder.transform(train.cell_temp)"
   ]
  },
  {
   "cell_type": "code",
   "execution_count": 8,
   "metadata": {
    "collapsed": true
   },
   "outputs": [],
   "source": [
    "#style_encoder = LabelEncoder()\n",
    "#style_encoder.fit(train.style)\n",
    "#len(train['style'].value_counts())"
   ]
  },
  {
   "cell_type": "code",
   "execution_count": 9,
   "metadata": {
    "collapsed": true
   },
   "outputs": [],
   "source": [
    "# The number_ratings feature is in text because some of the rows are like '1,000'\n",
    "# Remove ','\n",
    "train.number_ratings = train.number_ratings.apply(lambda x: x.replace(\",\", \"\"))\n",
    "train.number_ratings = pd.to_numeric(train.number_ratings)"
   ]
  },
  {
   "cell_type": "code",
   "execution_count": 10,
   "metadata": {
    "collapsed": true
   },
   "outputs": [],
   "source": [
    "# Processing the food and glassware features\n",
    "# Remove eveyything between parantheses\n",
    "train['food'] = train.food.str.replace(r\"\\(.*\\)\",\"\")\n",
    "train['glassware'] = train.glassware.str.replace(r\"\\(.*\\)\",\"\")"
   ]
  },
  {
   "cell_type": "code",
   "execution_count": 11,
   "metadata": {},
   "outputs": [
    {
     "data": {
      "text/html": [
       "<div>\n",
       "<style scoped>\n",
       "    .dataframe tbody tr th:only-of-type {\n",
       "        vertical-align: middle;\n",
       "    }\n",
       "\n",
       "    .dataframe tbody tr th {\n",
       "        vertical-align: top;\n",
       "    }\n",
       "\n",
       "    .dataframe thead th {\n",
       "        text-align: right;\n",
       "    }\n",
       "</style>\n",
       "<table border=\"1\" class=\"dataframe\">\n",
       "  <thead>\n",
       "    <tr style=\"text-align: right;\">\n",
       "      <th></th>\n",
       "      <th>glass_flute</th>\n",
       "      <th>glass_goblet</th>\n",
       "      <th>glass_mug</th>\n",
       "      <th>glass_none</th>\n",
       "      <th>glass_oversizedwineglass</th>\n",
       "      <th>glass_pilsenerglass</th>\n",
       "      <th>glass_pintglass</th>\n",
       "      <th>glass_snifter</th>\n",
       "      <th>glass_stange</th>\n",
       "      <th>glass_tulip</th>\n",
       "      <th>glass_weizenglass</th>\n",
       "      <th>glass_yet</th>\n",
       "    </tr>\n",
       "  </thead>\n",
       "  <tbody>\n",
       "    <tr>\n",
       "      <th>0</th>\n",
       "      <td>0</td>\n",
       "      <td>0</td>\n",
       "      <td>0</td>\n",
       "      <td>0</td>\n",
       "      <td>0</td>\n",
       "      <td>0</td>\n",
       "      <td>1</td>\n",
       "      <td>0</td>\n",
       "      <td>0</td>\n",
       "      <td>0</td>\n",
       "      <td>0</td>\n",
       "      <td>0</td>\n",
       "    </tr>\n",
       "    <tr>\n",
       "      <th>1</th>\n",
       "      <td>0</td>\n",
       "      <td>0</td>\n",
       "      <td>0</td>\n",
       "      <td>0</td>\n",
       "      <td>0</td>\n",
       "      <td>0</td>\n",
       "      <td>1</td>\n",
       "      <td>0</td>\n",
       "      <td>0</td>\n",
       "      <td>0</td>\n",
       "      <td>0</td>\n",
       "      <td>0</td>\n",
       "    </tr>\n",
       "    <tr>\n",
       "      <th>2</th>\n",
       "      <td>0</td>\n",
       "      <td>0</td>\n",
       "      <td>0</td>\n",
       "      <td>0</td>\n",
       "      <td>0</td>\n",
       "      <td>0</td>\n",
       "      <td>1</td>\n",
       "      <td>0</td>\n",
       "      <td>0</td>\n",
       "      <td>0</td>\n",
       "      <td>0</td>\n",
       "      <td>0</td>\n",
       "    </tr>\n",
       "    <tr>\n",
       "      <th>3</th>\n",
       "      <td>0</td>\n",
       "      <td>0</td>\n",
       "      <td>0</td>\n",
       "      <td>0</td>\n",
       "      <td>0</td>\n",
       "      <td>0</td>\n",
       "      <td>1</td>\n",
       "      <td>0</td>\n",
       "      <td>0</td>\n",
       "      <td>0</td>\n",
       "      <td>0</td>\n",
       "      <td>0</td>\n",
       "    </tr>\n",
       "    <tr>\n",
       "      <th>4</th>\n",
       "      <td>0</td>\n",
       "      <td>0</td>\n",
       "      <td>0</td>\n",
       "      <td>0</td>\n",
       "      <td>0</td>\n",
       "      <td>1</td>\n",
       "      <td>0</td>\n",
       "      <td>0</td>\n",
       "      <td>0</td>\n",
       "      <td>0</td>\n",
       "      <td>0</td>\n",
       "      <td>0</td>\n",
       "    </tr>\n",
       "  </tbody>\n",
       "</table>\n",
       "</div>"
      ],
      "text/plain": [
       "   glass_flute  glass_goblet  glass_mug  glass_none  glass_oversizedwineglass  \\\n",
       "0            0             0          0           0                         0   \n",
       "1            0             0          0           0                         0   \n",
       "2            0             0          0           0                         0   \n",
       "3            0             0          0           0                         0   \n",
       "4            0             0          0           0                         0   \n",
       "\n",
       "   glass_pilsenerglass  glass_pintglass  glass_snifter  glass_stange  \\\n",
       "0                    0                1              0             0   \n",
       "1                    0                1              0             0   \n",
       "2                    0                1              0             0   \n",
       "3                    0                1              0             0   \n",
       "4                    1                0              0             0   \n",
       "\n",
       "   glass_tulip  glass_weizenglass  glass_yet  \n",
       "0            0                  0          0  \n",
       "1            0                  0          0  \n",
       "2            0                  0          0  \n",
       "3            0                  0          0  \n",
       "4            0                  0          0  "
      ]
     },
     "execution_count": 11,
     "metadata": {},
     "output_type": "execute_result"
    }
   ],
   "source": [
    "train_glass = train.glassware.str.split('\\s*,\\s*', expand=True).stack().str.get_dummies().sum(level=0)\n",
    "train_glass.columns = ['glass_' + str(col).lower()  for col in train_glass.columns]\n",
    "train_glass.head()"
   ]
  },
  {
   "cell_type": "code",
   "execution_count": 12,
   "metadata": {},
   "outputs": [
    {
     "data": {
      "text/html": [
       "<div>\n",
       "<style scoped>\n",
       "    .dataframe tbody tr th:only-of-type {\n",
       "        vertical-align: middle;\n",
       "    }\n",
       "\n",
       "    .dataframe tbody tr th {\n",
       "        vertical-align: top;\n",
       "    }\n",
       "\n",
       "    .dataframe thead th {\n",
       "        text-align: right;\n",
       "    }\n",
       "</style>\n",
       "<table border=\"1\" class=\"dataframe\">\n",
       "  <thead>\n",
       "    <tr style=\"text-align: right;\">\n",
       "      <th></th>\n",
       "      <th>food_cheese</th>\n",
       "      <th>food_meat</th>\n",
       "      <th>food_none</th>\n",
       "      <th>food_yet</th>\n",
       "    </tr>\n",
       "  </thead>\n",
       "  <tbody>\n",
       "    <tr>\n",
       "      <th>0</th>\n",
       "      <td>0</td>\n",
       "      <td>0</td>\n",
       "      <td>0</td>\n",
       "      <td>0</td>\n",
       "    </tr>\n",
       "    <tr>\n",
       "      <th>1</th>\n",
       "      <td>0</td>\n",
       "      <td>0</td>\n",
       "      <td>0</td>\n",
       "      <td>0</td>\n",
       "    </tr>\n",
       "    <tr>\n",
       "      <th>2</th>\n",
       "      <td>0</td>\n",
       "      <td>1</td>\n",
       "      <td>0</td>\n",
       "      <td>0</td>\n",
       "    </tr>\n",
       "    <tr>\n",
       "      <th>3</th>\n",
       "      <td>0</td>\n",
       "      <td>0</td>\n",
       "      <td>0</td>\n",
       "      <td>0</td>\n",
       "    </tr>\n",
       "    <tr>\n",
       "      <th>4</th>\n",
       "      <td>0</td>\n",
       "      <td>1</td>\n",
       "      <td>0</td>\n",
       "      <td>0</td>\n",
       "    </tr>\n",
       "  </tbody>\n",
       "</table>\n",
       "</div>"
      ],
      "text/plain": [
       "   food_cheese  food_meat  food_none  food_yet\n",
       "0            0          0          0         0\n",
       "1            0          0          0         0\n",
       "2            0          1          0         0\n",
       "3            0          0          0         0\n",
       "4            0          1          0         0"
      ]
     },
     "execution_count": 12,
     "metadata": {},
     "output_type": "execute_result"
    }
   ],
   "source": [
    "train_food = train.food.str.split('\\s*,\\s*', expand=True).stack().str.get_dummies().sum(level=0)\n",
    "train_food.columns = ['food_' + str(col).lower()  for col in train_food.columns]\n",
    "train_food.head()"
   ]
  },
  {
   "cell_type": "code",
   "execution_count": 13,
   "metadata": {},
   "outputs": [
    {
     "data": {
      "text/html": [
       "<div>\n",
       "<style scoped>\n",
       "    .dataframe tbody tr th:only-of-type {\n",
       "        vertical-align: middle;\n",
       "    }\n",
       "\n",
       "    .dataframe tbody tr th {\n",
       "        vertical-align: top;\n",
       "    }\n",
       "\n",
       "    .dataframe thead th {\n",
       "        text-align: right;\n",
       "    }\n",
       "</style>\n",
       "<table border=\"1\" class=\"dataframe\">\n",
       "  <thead>\n",
       "    <tr style=\"text-align: right;\">\n",
       "      <th></th>\n",
       "      <th>abv</th>\n",
       "      <th>company</th>\n",
       "      <th>id</th>\n",
       "      <th>number_ratings</th>\n",
       "      <th>style</th>\n",
       "      <th>cell_temp</th>\n",
       "      <th>serving_temp</th>\n",
       "      <th>score</th>\n",
       "      <th>food_cheese</th>\n",
       "      <th>food_meat</th>\n",
       "      <th>...</th>\n",
       "      <th>glass_mug</th>\n",
       "      <th>glass_none</th>\n",
       "      <th>glass_oversizedwineglass</th>\n",
       "      <th>glass_pilsenerglass</th>\n",
       "      <th>glass_pintglass</th>\n",
       "      <th>glass_snifter</th>\n",
       "      <th>glass_stange</th>\n",
       "      <th>glass_tulip</th>\n",
       "      <th>glass_weizenglass</th>\n",
       "      <th>glass_yet</th>\n",
       "    </tr>\n",
       "  </thead>\n",
       "  <tbody>\n",
       "    <tr>\n",
       "      <th>0</th>\n",
       "      <td>6.500000</td>\n",
       "      <td>8929</td>\n",
       "      <td>15121</td>\n",
       "      <td>22</td>\n",
       "      <td>AmericanIPA</td>\n",
       "      <td>1</td>\n",
       "      <td>2</td>\n",
       "      <td>3.28</td>\n",
       "      <td>0</td>\n",
       "      <td>0</td>\n",
       "      <td>...</td>\n",
       "      <td>0</td>\n",
       "      <td>0</td>\n",
       "      <td>0</td>\n",
       "      <td>0</td>\n",
       "      <td>1</td>\n",
       "      <td>0</td>\n",
       "      <td>0</td>\n",
       "      <td>0</td>\n",
       "      <td>0</td>\n",
       "      <td>0</td>\n",
       "    </tr>\n",
       "    <tr>\n",
       "      <th>1</th>\n",
       "      <td>5.500000</td>\n",
       "      <td>13187</td>\n",
       "      <td>59817</td>\n",
       "      <td>1</td>\n",
       "      <td>AmericanPaleAle(APA)</td>\n",
       "      <td>0</td>\n",
       "      <td>1</td>\n",
       "      <td>3.52</td>\n",
       "      <td>0</td>\n",
       "      <td>0</td>\n",
       "      <td>...</td>\n",
       "      <td>0</td>\n",
       "      <td>0</td>\n",
       "      <td>0</td>\n",
       "      <td>0</td>\n",
       "      <td>1</td>\n",
       "      <td>0</td>\n",
       "      <td>0</td>\n",
       "      <td>0</td>\n",
       "      <td>0</td>\n",
       "      <td>0</td>\n",
       "    </tr>\n",
       "    <tr>\n",
       "      <th>2</th>\n",
       "      <td>8.100000</td>\n",
       "      <td>6834</td>\n",
       "      <td>32669</td>\n",
       "      <td>3</td>\n",
       "      <td>IrishRedAle</td>\n",
       "      <td>0</td>\n",
       "      <td>1</td>\n",
       "      <td>4.01</td>\n",
       "      <td>0</td>\n",
       "      <td>1</td>\n",
       "      <td>...</td>\n",
       "      <td>0</td>\n",
       "      <td>0</td>\n",
       "      <td>0</td>\n",
       "      <td>0</td>\n",
       "      <td>1</td>\n",
       "      <td>0</td>\n",
       "      <td>0</td>\n",
       "      <td>0</td>\n",
       "      <td>0</td>\n",
       "      <td>0</td>\n",
       "    </tr>\n",
       "    <tr>\n",
       "      <th>3</th>\n",
       "      <td>6.354961</td>\n",
       "      <td>11688</td>\n",
       "      <td>130798</td>\n",
       "      <td>0</td>\n",
       "      <td>AmericanMaltLiquor</td>\n",
       "      <td>0</td>\n",
       "      <td>0</td>\n",
       "      <td>0.00</td>\n",
       "      <td>0</td>\n",
       "      <td>0</td>\n",
       "      <td>...</td>\n",
       "      <td>0</td>\n",
       "      <td>0</td>\n",
       "      <td>0</td>\n",
       "      <td>0</td>\n",
       "      <td>1</td>\n",
       "      <td>0</td>\n",
       "      <td>0</td>\n",
       "      <td>0</td>\n",
       "      <td>0</td>\n",
       "      <td>0</td>\n",
       "    </tr>\n",
       "    <tr>\n",
       "      <th>4</th>\n",
       "      <td>6.000000</td>\n",
       "      <td>10417</td>\n",
       "      <td>124087</td>\n",
       "      <td>1</td>\n",
       "      <td>EuroPaleLager</td>\n",
       "      <td>0</td>\n",
       "      <td>1</td>\n",
       "      <td>2.73</td>\n",
       "      <td>0</td>\n",
       "      <td>1</td>\n",
       "      <td>...</td>\n",
       "      <td>0</td>\n",
       "      <td>0</td>\n",
       "      <td>0</td>\n",
       "      <td>1</td>\n",
       "      <td>0</td>\n",
       "      <td>0</td>\n",
       "      <td>0</td>\n",
       "      <td>0</td>\n",
       "      <td>0</td>\n",
       "      <td>0</td>\n",
       "    </tr>\n",
       "  </tbody>\n",
       "</table>\n",
       "<p>5 rows × 24 columns</p>\n",
       "</div>"
      ],
      "text/plain": [
       "        abv  company      id  number_ratings                 style  cell_temp  \\\n",
       "0  6.500000     8929   15121              22           AmericanIPA          1   \n",
       "1  5.500000    13187   59817               1  AmericanPaleAle(APA)          0   \n",
       "2  8.100000     6834   32669               3           IrishRedAle          0   \n",
       "3  6.354961    11688  130798               0    AmericanMaltLiquor          0   \n",
       "4  6.000000    10417  124087               1         EuroPaleLager          0   \n",
       "\n",
       "   serving_temp  score  food_cheese  food_meat    ...      glass_mug  \\\n",
       "0             2   3.28            0          0    ...              0   \n",
       "1             1   3.52            0          0    ...              0   \n",
       "2             1   4.01            0          1    ...              0   \n",
       "3             0   0.00            0          0    ...              0   \n",
       "4             1   2.73            0          1    ...              0   \n",
       "\n",
       "   glass_none  glass_oversizedwineglass  glass_pilsenerglass  glass_pintglass  \\\n",
       "0           0                         0                    0                1   \n",
       "1           0                         0                    0                1   \n",
       "2           0                         0                    0                1   \n",
       "3           0                         0                    0                1   \n",
       "4           0                         0                    1                0   \n",
       "\n",
       "   glass_snifter  glass_stange  glass_tulip  glass_weizenglass  glass_yet  \n",
       "0              0             0            0                  0          0  \n",
       "1              0             0            0                  0          0  \n",
       "2              0             0            0                  0          0  \n",
       "3              0             0            0                  0          0  \n",
       "4              0             0            0                  0          0  \n",
       "\n",
       "[5 rows x 24 columns]"
      ]
     },
     "execution_count": 13,
     "metadata": {},
     "output_type": "execute_result"
    }
   ],
   "source": [
    "# Combine all the dataframes\n",
    "train_final = pd.concat([train, train_food, train_glass], axis=1)\n",
    "train_final.drop(['food', 'glassware'], axis=1, inplace=True)\n",
    "train_final.head()"
   ]
  },
  {
   "cell_type": "markdown",
   "metadata": {},
   "source": [
    "# Exploratory Analysis"
   ]
  },
  {
   "cell_type": "markdown",
   "metadata": {},
   "source": [
    "### Univariate Analysis "
   ]
  },
  {
   "cell_type": "code",
   "execution_count": 14,
   "metadata": {},
   "outputs": [
    {
     "data": {
      "text/plain": [
       "<matplotlib.axes._subplots.AxesSubplot at 0x7f5d72139490>"
      ]
     },
     "execution_count": 14,
     "metadata": {},
     "output_type": "execute_result"
    },
    {
     "data": {
      "image/png": "[encoded data removed]",
      "text/plain": [
       "<matplotlib.figure.Figure at 0x7f5d7359cc10>"
      ]
     },
     "metadata": {},
     "output_type": "display_data"
    }
   ],
   "source": [
    "#Using the original dataframe for visualizations\n",
    "sns.distplot(np.log(train.abv))"
   ]
  },
  {
   "cell_type": "code",
   "execution_count": 15,
   "metadata": {},
   "outputs": [
    {
     "data": {
      "text/plain": [
       "<matplotlib.axes._subplots.AxesSubplot at 0x7f5d6f42b0d0>"
      ]
     },
     "execution_count": 15,
     "metadata": {},
     "output_type": "execute_result"
    },
    {
     "data": {
      "image/png": "[encoded data removed]",
      "text/plain": [
       "<matplotlib.figure.Figure at 0x7f5da91a4490>"
      ]
     },
     "metadata": {},
     "output_type": "display_data"
    }
   ],
   "source": [
    "sns.distplot(np.log(train.number_ratings + 1))"
   ]
  },
  {
   "cell_type": "markdown",
   "metadata": {
    "collapsed": true
   },
   "source": [
    "##### Target Variable"
   ]
  },
  {
   "cell_type": "code",
   "execution_count": 16,
   "metadata": {},
   "outputs": [
    {
     "data": {
      "text/plain": [
       "<matplotlib.axes._subplots.AxesSubplot at 0x7f5d72da72d0>"
      ]
     },
     "execution_count": 16,
     "metadata": {},
     "output_type": "execute_result"
    },
    {
     "data": {
      "image/png": "[encoded data removed]",
      "text/plain": [
       "<matplotlib.figure.Figure at 0x7f5d72dbda50>"
      ]
     },
     "metadata": {},
     "output_type": "display_data"
    }
   ],
   "source": [
    "sns.distplot(train.score)"
   ]
  },
  {
   "cell_type": "code",
   "execution_count": 17,
   "metadata": {},
   "outputs": [
    {
     "data": {
      "text/plain": [
       "<matplotlib.axes._subplots.AxesSubplot at 0x7f5d72c0a050>"
      ]
     },
     "execution_count": 17,
     "metadata": {},
     "output_type": "execute_result"
    },
    {
     "data": {
      "image/png": "[encoded data removed]",
      "text/plain": [
       "<matplotlib.figure.Figure at 0x7f5d72c14ad0>"
      ]
     },
     "metadata": {},
     "output_type": "display_data"
    }
   ],
   "source": [
    "sns.distplot(train.score[train.number_ratings > 0])"
   ]
  },
  {
   "cell_type": "markdown",
   "metadata": {},
   "source": [
    "### Correlation Analysis"
   ]
  },
  {
   "cell_type": "code",
   "execution_count": 18,
   "metadata": {},
   "outputs": [
    {
     "data": {
      "text/plain": [
       "<matplotlib.axes._subplots.AxesSubplot at 0x7f5d72b4e910>"
      ]
     },
     "execution_count": 18,
     "metadata": {},
     "output_type": "execute_result"
    },
    {
     "data": {
      "image/png": "[encoded data removed]",
      "text/plain": [
       "<matplotlib.figure.Figure at 0x7f5d72ae9390>"
      ]
     },
     "metadata": {},
     "output_type": "display_data"
    }
   ],
   "source": [
    "#correlation matrix\n",
    "numeric_cols = ['abv', 'number_ratings', 'score', 'serving_temp', 'cell_temp']\n",
    "corrmat = train[numeric_cols].corr()\n",
    "f, ax = plt.subplots(figsize=(12, 9))\n",
    "sns.heatmap(corrmat, vmax=.8, square=True)"
   ]
  },
  {
   "cell_type": "markdown",
   "metadata": {},
   "source": [
    "<h2>Insights from Initial Exploration of Data</h2>\n",
    "<h4> Target Variable </h4>\n",
    "<p> 1. Those rows which have zero ratings have zero score. It'll be better to model values with ratings greater than zero and handle the zero values otherwise</p>\n",
    "<p> 2. Score is almost normally distributed\n",
    "\n",
    "<h4> Independent Variable </h4>\n",
    "<p> 1. </p>\n",
    "\n",
    "<h4> Correlation Analysis </h4>\n",
    "Except serving temperature and cell temperature, There is no significant correlation between numeric features, hence linear, lasso etc can be used"
   ]
  },
  {
   "cell_type": "markdown",
   "metadata": {},
   "source": [
    "# Model Training"
   ]
  },
  {
   "cell_type": "code",
   "execution_count": 19,
   "metadata": {
    "collapsed": true
   },
   "outputs": [],
   "source": [
    "# Remove columns which wont be used for traini\n",
    "remove_cols = ['id', 'company', 'style']\n",
    "train_final = train_final.drop(remove_cols, axis=1)"
   ]
  },
  {
   "cell_type": "code",
   "execution_count": 20,
   "metadata": {
    "collapsed": true
   },
   "outputs": [],
   "source": [
    "# Remove rows with 0 score\n",
    "train_final = train_final[train_final.number_ratings > 0]\n",
    "train_final_x = train_final.drop('score', axis=1)\n",
    "train_final_y = train_final.score"
   ]
  },
  {
   "cell_type": "code",
   "execution_count": 21,
   "metadata": {
    "collapsed": true
   },
   "outputs": [],
   "source": [
    "train_x, valid_x, train_y, valid_y = train_test_split(train_final_x, \n",
    "                                                      train_final_y, \n",
    "                                                      test_size=0.3)"
   ]
  },
  {
   "cell_type": "markdown",
   "metadata": {},
   "source": [
    "## Linear methods"
   ]
  },
  {
   "cell_type": "code",
   "execution_count": 22,
   "metadata": {},
   "outputs": [
    {
     "data": {
      "text/plain": [
       "LinearRegression(copy_X=True, fit_intercept=True, n_jobs=1, normalize=False)"
      ]
     },
     "execution_count": 22,
     "metadata": {},
     "output_type": "execute_result"
    }
   ],
   "source": [
    "lreg_model = LinearRegression()\n",
    "lreg_model.fit(train_x, train_y)"
   ]
  },
  {
   "cell_type": "markdown",
   "metadata": {
    "collapsed": true
   },
   "source": [
    "### Evaluation"
   ]
  },
  {
   "cell_type": "code",
   "execution_count": 28,
   "metadata": {},
   "outputs": [],
   "source": [
    "def rmse(y_pred, y_actual):\n",
    "    return sqrt(mean_squared_error(y_actual, y_pred))\n",
    "\n",
    "def evaluate_model(model, valid_x, valid_y):\n",
    "    r2_score = model.score(valid_x, valid_y)\n",
    "    print(\"R2 value:\" + str(r2_score))\n",
    "    valid_preds = model.predict(valid_x)\n",
    "    print(\"RMSE Value:\" + str(rmse(valid_preds, valid_y)))"
   ]
  },
  {
   "cell_type": "code",
   "execution_count": 30,
   "metadata": {},
   "outputs": [
    {
     "name": "stdout",
     "output_type": "stream",
     "text": [
      "R2 value:0.168122688945\n",
      "RMSE Value:0.408254827192\n"
     ]
    }
   ],
   "source": [
    "# Evaluation of Linear model\n",
    "evaluate_model(lreg_model, valid_x, valid_y)"
   ]
  }
 ],
 "metadata": {
  "kernelspec": {
   "display_name": "Python 2",
   "language": "python",
   "name": "python2"
  },
  "language_info": {
   "codemirror_mode": {
    "name": "ipython",
    "version": 2
   },
   "file_extension": ".py",
   "mimetype": "text/x-python",
   "name": "python",
   "nbconvert_exporter": "python",
   "pygments_lexer": "ipython2",
   "version": "2.7.13"
  }
 },
 "nbformat": 4,
 "nbformat_minor": 2
}
